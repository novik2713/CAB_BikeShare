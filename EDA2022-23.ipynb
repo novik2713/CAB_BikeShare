{
 "cells": [
  {
   "cell_type": "code",
   "execution_count": 2,
   "metadata": {},
   "outputs": [],
   "source": [
    "import numpy as np\n",
    "import pandas as pd\n",
    "import matplotlib.pyplot as plt \n",
    "import seaborn as sns"
   ]
  },
  {
   "cell_type": "code",
   "execution_count": 3,
   "metadata": {},
   "outputs": [],
   "source": [
    "daily23 = pd.read_csv(\"2021-2023\\CSB_2021-2023_Daily_Weather.csv\")\n",
    "hourly23 = pd.read_csv(\"2021-2023\\CSB_2021-2023_Hourly_Weather.csv\")\n",
    "#all_2023 = pd.read_csv(\"CSB_2021-2023_All.csv\")"
   ]
  },
  {
   "cell_type": "code",
   "execution_count": 4,
   "metadata": {},
   "outputs": [],
   "source": [
    "dd = daily23.copy()\n",
    "hd = hourly23.copy()\n",
    "#all2023 = all_2023.copy()"
   ]
  },
  {
   "cell_type": "code",
   "execution_count": 5,
   "metadata": {},
   "outputs": [
    {
     "name": "stdout",
     "output_type": "stream",
     "text": [
      "<class 'pandas.core.frame.DataFrame'>\n",
      "RangeIndex: 21864 entries, 0 to 21863\n",
      "Data columns (total 9 columns):\n",
      " #   Column                   Non-Null Count  Dtype  \n",
      "---  ------                   --------------  -----  \n",
      " 0   Date                     21864 non-null  object \n",
      " 1   Hour                     21864 non-null  int64  \n",
      " 2   Casual                   21853 non-null  float64\n",
      " 3   Member                   21853 non-null  float64\n",
      " 4   Total_rides              21853 non-null  float64\n",
      " 5   temperature_2m (°C)      21864 non-null  float64\n",
      " 6   relativehumidity_2m (%)  21864 non-null  int64  \n",
      " 7   weathercode (wmo code)   21864 non-null  int64  \n",
      " 8   windspeed_10m (km/h)     21864 non-null  float64\n",
      "dtypes: float64(5), int64(3), object(1)\n",
      "memory usage: 1.5+ MB\n"
     ]
    }
   ],
   "source": [
    "hd.info()"
   ]
  },
  {
   "cell_type": "code",
   "execution_count": 6,
   "metadata": {},
   "outputs": [],
   "source": [
    "#rename\n",
    "dd = dd.rename(columns={\"temperature_2m_mean (°C)\": \"temp(°C)\", \"relativehumidity_2m (%)\": \"humidity(%)\", \"weathercode (wmo code)\": \"WMO code\", 'apparent_temperature_mean (°C)': \"atemp(°C)\", 'windspeed_10m_max (km/h)': \"windspeed\"})\n",
    "hd = hd.rename(columns={\"temperature_2m (°C)\": \"temp(°C)\", \"relativehumidity_2m (%)\": \"humidity(%)\", \"weathercode (wmo code)\": \"WMO code\", 'windspeed_10m (km/h)': \"windspeed\"})"
   ]
  },
  {
   "cell_type": "code",
   "execution_count": 7,
   "metadata": {},
   "outputs": [],
   "source": [
    "dd[\"Date\"] = pd.to_datetime(dd['Date'])\n",
    "hd[\"Date\"] = pd.to_datetime(hd['Date'])"
   ]
  },
  {
   "cell_type": "code",
   "execution_count": 8,
   "metadata": {},
   "outputs": [],
   "source": [
    "hd[['Casual', 'Member', 'Total_rides']] = hd[['Casual', 'Member', 'Total_rides']].fillna(0)"
   ]
  },
  {
   "cell_type": "code",
   "execution_count": 9,
   "metadata": {},
   "outputs": [
    {
     "data": {
      "text/plain": [
       "Date           0\n",
       "Casual         0\n",
       "Member         0\n",
       "Total_rides    0\n",
       "WMO code       0\n",
       "temp(°C)       0\n",
       "atemp(°C)      0\n",
       "windspeed      0\n",
       "dtype: int64"
      ]
     },
     "metadata": {},
     "output_type": "display_data"
    },
    {
     "data": {
      "text/plain": [
       "Date           0\n",
       "Hour           0\n",
       "Casual         0\n",
       "Member         0\n",
       "Total_rides    0\n",
       "temp(°C)       0\n",
       "humidity(%)    0\n",
       "WMO code       0\n",
       "windspeed      0\n",
       "dtype: int64"
      ]
     },
     "metadata": {},
     "output_type": "display_data"
    }
   ],
   "source": [
    "display(dd.isna().sum())\n",
    "display(hd.isna().sum())"
   ]
  },
  {
   "cell_type": "code",
   "execution_count": 10,
   "metadata": {},
   "outputs": [],
   "source": [
    "from datetime import datetime\n",
    "def season(Date):\n",
    "    day_of_year = Date.timetuple().tm_yday\n",
    "    if 80 <= day_of_year <= 171:return 2  # Spring\n",
    "    elif 172 <= day_of_year <= 263: return 3  # Summer\n",
    "    elif 264 <= day_of_year <= 355: return 4  # Autumn\n",
    "    else: return 1  # Winter\n",
    "dd['season'] = dd['Date'].apply(season)\n",
    "hd[\"season\"] = hd['Date'].apply(season)"
   ]
  },
  {
   "cell_type": "code",
   "execution_count": 11,
   "metadata": {},
   "outputs": [
    {
     "data": {
      "text/plain": [
       "array([ 90,  88,  87,  81,  77,  75,  72,  71,  70,  69,  80,  92,  94,\n",
       "        95,  96,  97,  98,  99,  93,  66,  62,  63,  64,  76,  85,  89,\n",
       "        91,  86,  82,  74,  61,  59,  60,  65,  83,  73,  79,  68,  57,\n",
       "        52,  51,  50,  54,  56,  67,  49,  55,  78,  84,  58,  48,  43,\n",
       "        39,  36,  34,  33,  38,  41,  45,  47,  53,  46,  44,  37,  42,\n",
       "        40,  35,  32, 100,  31,  30,  29,  28,  27,  26,  25,  24,  23,\n",
       "        22,  20,  19], dtype=int64)"
      ]
     },
     "execution_count": 11,
     "metadata": {},
     "output_type": "execute_result"
    }
   ],
   "source": [
    "hd['humidity(%)'].unique()"
   ]
  },
  {
   "cell_type": "code",
   "execution_count": 12,
   "metadata": {},
   "outputs": [
    {
     "name": "stdout",
     "output_type": "stream",
     "text": [
      "[ 78  81  85  94  95  96  97  89  83  75  67  61  58  54  51  70  76  77\n",
      "  92  93  91  74  63  57  60  68  71  82  65  55  46  43  41  40  39  38\n",
      "  37  42  53  73  87  88  52  48  45  44  47  56  59  69  79  90  50  49\n",
      "  72  80  86  84  66  62  64  35  34  36  98  99  31  30 100]\n"
     ]
    }
   ],
   "source": [
    "unique_humidity = hd[hd['season'] ==3]['humidity(%)'].unique()\n",
    "print(unique_humidity)"
   ]
  },
  {
   "cell_type": "code",
   "execution_count": null,
   "metadata": {},
   "outputs": [],
   "source": [
    "# def season(Date):\n",
    "#     month= Date.month\n",
    "#     if 3 <= month <= 5 : return 2 #spring\n",
    "#     if 6 <= month <= 8: return 3 #summer\n",
    "#     if 9 <= month <= 11: return 4 #autumn\n",
    "#     else: return 1 #winter\n",
    "# def year(Date):\n",
    "#     year = Date.year\n",
    "#     if year == '2022': return 0\n",
    "#     else: return 1\n",
    "    \n",
    "#hd[\"season\"] = hd['Date'].apply(season)\n",
    "#white_wine['quality_category'] = white_wine['quality'].apply()"
   ]
  },
  {
   "cell_type": "code",
   "execution_count": 13,
   "metadata": {},
   "outputs": [],
   "source": [
    "#year: 2 for 2021, 3 for 2022, 4 for 2023 (2011 is 0 and 2012 is 1)\n",
    "dd['yr'] = dd['Date'].apply(lambda value: '2' if value.year == 2021 else ('3' if value.year == 2022 else '4'))\n",
    "hd['yr'] = hd['Date'].apply(lambda value: '2' if value.year == 2021 else ('3' if value.year == 2022 else '4'))\n",
    "#month\n",
    "dd['mnth'] = dd['Date'].dt.month\n",
    "hd['mnth'] = hd['Date'].dt.month"
   ]
  },
  {
   "cell_type": "code",
   "execution_count": 14,
   "metadata": {},
   "outputs": [],
   "source": [
    "holidays = [\n",
    "    \"01.01.2021\", \"18.01.2021\", \"20.01.2021\", \"15.02.2021\", \"16.04.2021\", \n",
    "    \"31.05.2021\", \"18.06.2021\", \"05.07.2021\", \"06.09.2021\", \"11.10.2021\",\n",
    "    \"11.11.2021\", \"25.11.2021\", \"24.12.2021\", \"01.01.2022\", \"17.01.2022\", \n",
    "    \"21.02.2022\", \"15.04.2022\", \"30.05.2022\", \"19.06.2022\", \"20.06.2022\", \n",
    "    \"04.07.2022\", \"05.09.2022\", \"10.10.2022\", \"11.11.2022\", \"24.11.2022\", \n",
    "    \"22.12.2022\", \"26.12.2022\", \"01.01.2023\", \"02.01.2023\", \"16.01.2023\", \n",
    "    \"20.02.2023\", \"17.04.2023\", \"29.05.2023\", \"19.06.2023\", \"04.07.2023\", \n",
    "    \"04.09.2023\", \"09.10.2023\", \"10.11.2023\", \"23.11.2023\", \"25.12.2023\"] #source https://edpm.dc.gov/issuances/legal-public-holidays-2023/\n",
    "\n",
    "holidays = [pd.to_datetime(date, format=\"%d.%m.%Y\") for date in holidays]\n",
    "\n",
    "dd['holiday'] = dd['Date'].isin(holidays).astype(int)\n",
    "hd['holiday'] = hd['Date'].isin(holidays).astype(int)"
   ]
  },
  {
   "cell_type": "code",
   "execution_count": 17,
   "metadata": {},
   "outputs": [],
   "source": [
    "dd['weekday'] = dd['Date'].dt.weekday\n",
    "hd['weekday'] = hd['Date'].dt.weekday\n",
    "\n",
    "#check if its a holiday and weekend and chang holiday to boolean\n",
    "dd[\"holiday\"] = dd[\"holiday\"].astype(\"bool\")\n",
    "hd[\"holiday\"] = hd[\"holiday\"].astype(\"bool\")\n",
    "dd['workingday'] = np.where((dd['weekday'] > 4) | dd['holiday'], False, True)\n",
    "hd['workingday'] = np.where((hd['weekday'] > 4) | hd['holiday'], False, True)"
   ]
  },
  {
   "cell_type": "code",
   "execution_count": null,
   "metadata": {},
   "outputs": [],
   "source": [
    "#create weather situation\n",
    "# analyse events\n",
    "#analyse weather\n",
    "#maybe special weather for "
   ]
  },
  {
   "cell_type": "code",
   "execution_count": 18,
   "metadata": {},
   "outputs": [
    {
     "data": {
      "text/html": [
       "<div>\n",
       "<style scoped>\n",
       "    .dataframe tbody tr th:only-of-type {\n",
       "        vertical-align: middle;\n",
       "    }\n",
       "\n",
       "    .dataframe tbody tr th {\n",
       "        vertical-align: top;\n",
       "    }\n",
       "\n",
       "    .dataframe thead th {\n",
       "        text-align: right;\n",
       "    }\n",
       "</style>\n",
       "<table border=\"1\" class=\"dataframe\">\n",
       "  <thead>\n",
       "    <tr style=\"text-align: right;\">\n",
       "      <th></th>\n",
       "      <th>Date</th>\n",
       "      <th>Hour</th>\n",
       "      <th>Casual</th>\n",
       "      <th>Member</th>\n",
       "      <th>Total_rides</th>\n",
       "      <th>temp(°C)</th>\n",
       "      <th>humidity(%)</th>\n",
       "      <th>WMO code</th>\n",
       "      <th>windspeed</th>\n",
       "      <th>season</th>\n",
       "      <th>yr</th>\n",
       "      <th>mnth</th>\n",
       "      <th>holiday</th>\n",
       "      <th>weekday</th>\n",
       "      <th>workingday</th>\n",
       "    </tr>\n",
       "  </thead>\n",
       "  <tbody>\n",
       "    <tr>\n",
       "      <th>0</th>\n",
       "      <td>2021-01-01</td>\n",
       "      <td>0</td>\n",
       "      <td>20.0</td>\n",
       "      <td>26.0</td>\n",
       "      <td>46.0</td>\n",
       "      <td>2.4</td>\n",
       "      <td>90</td>\n",
       "      <td>1</td>\n",
       "      <td>10.2</td>\n",
       "      <td>1</td>\n",
       "      <td>2</td>\n",
       "      <td>1</td>\n",
       "      <td>True</td>\n",
       "      <td>4</td>\n",
       "      <td>False</td>\n",
       "    </tr>\n",
       "    <tr>\n",
       "      <th>1</th>\n",
       "      <td>2021-01-01</td>\n",
       "      <td>1</td>\n",
       "      <td>23.0</td>\n",
       "      <td>23.0</td>\n",
       "      <td>46.0</td>\n",
       "      <td>1.8</td>\n",
       "      <td>88</td>\n",
       "      <td>1</td>\n",
       "      <td>10.0</td>\n",
       "      <td>1</td>\n",
       "      <td>2</td>\n",
       "      <td>1</td>\n",
       "      <td>True</td>\n",
       "      <td>4</td>\n",
       "      <td>False</td>\n",
       "    </tr>\n",
       "    <tr>\n",
       "      <th>2</th>\n",
       "      <td>2021-01-01</td>\n",
       "      <td>2</td>\n",
       "      <td>20.0</td>\n",
       "      <td>28.0</td>\n",
       "      <td>48.0</td>\n",
       "      <td>1.1</td>\n",
       "      <td>87</td>\n",
       "      <td>2</td>\n",
       "      <td>10.1</td>\n",
       "      <td>1</td>\n",
       "      <td>2</td>\n",
       "      <td>1</td>\n",
       "      <td>True</td>\n",
       "      <td>4</td>\n",
       "      <td>False</td>\n",
       "    </tr>\n",
       "    <tr>\n",
       "      <th>3</th>\n",
       "      <td>2021-01-01</td>\n",
       "      <td>3</td>\n",
       "      <td>9.0</td>\n",
       "      <td>7.0</td>\n",
       "      <td>16.0</td>\n",
       "      <td>1.6</td>\n",
       "      <td>81</td>\n",
       "      <td>2</td>\n",
       "      <td>10.6</td>\n",
       "      <td>1</td>\n",
       "      <td>2</td>\n",
       "      <td>1</td>\n",
       "      <td>True</td>\n",
       "      <td>4</td>\n",
       "      <td>False</td>\n",
       "    </tr>\n",
       "    <tr>\n",
       "      <th>4</th>\n",
       "      <td>2021-01-01</td>\n",
       "      <td>4</td>\n",
       "      <td>7.0</td>\n",
       "      <td>5.0</td>\n",
       "      <td>12.0</td>\n",
       "      <td>1.6</td>\n",
       "      <td>77</td>\n",
       "      <td>2</td>\n",
       "      <td>9.9</td>\n",
       "      <td>1</td>\n",
       "      <td>2</td>\n",
       "      <td>1</td>\n",
       "      <td>True</td>\n",
       "      <td>4</td>\n",
       "      <td>False</td>\n",
       "    </tr>\n",
       "  </tbody>\n",
       "</table>\n",
       "</div>"
      ],
      "text/plain": [
       "        Date  Hour  Casual  Member  Total_rides  temp(°C)  humidity(%)  \\\n",
       "0 2021-01-01     0    20.0    26.0         46.0       2.4           90   \n",
       "1 2021-01-01     1    23.0    23.0         46.0       1.8           88   \n",
       "2 2021-01-01     2    20.0    28.0         48.0       1.1           87   \n",
       "3 2021-01-01     3     9.0     7.0         16.0       1.6           81   \n",
       "4 2021-01-01     4     7.0     5.0         12.0       1.6           77   \n",
       "\n",
       "   WMO code  windspeed  season yr  mnth  holiday  weekday  workingday  \n",
       "0         1       10.2       1  2     1     True        4       False  \n",
       "1         1       10.0       1  2     1     True        4       False  \n",
       "2         2       10.1       1  2     1     True        4       False  \n",
       "3         2       10.6       1  2     1     True        4       False  \n",
       "4         2        9.9       1  2     1     True        4       False  "
      ]
     },
     "execution_count": 18,
     "metadata": {},
     "output_type": "execute_result"
    }
   ],
   "source": [
    "hd.head()"
   ]
  },
  {
   "cell_type": "code",
   "execution_count": null,
   "metadata": {},
   "outputs": [],
   "source": [
    "Changes\n"
   ]
  }
 ],
 "metadata": {
  "kernelspec": {
   "display_name": "CAB",
   "language": "python",
   "name": "python3"
  },
  "language_info": {
   "codemirror_mode": {
    "name": "ipython",
    "version": 3
   },
   "file_extension": ".py",
   "mimetype": "text/x-python",
   "name": "python",
   "nbconvert_exporter": "python",
   "pygments_lexer": "ipython3",
   "version": "3.10.12"
  }
 },
 "nbformat": 4,
 "nbformat_minor": 2
}
